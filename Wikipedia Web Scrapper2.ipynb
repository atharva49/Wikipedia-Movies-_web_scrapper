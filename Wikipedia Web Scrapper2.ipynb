{
 "cells": [
  {
   "cell_type": "code",
   "execution_count": 211,
   "metadata": {},
   "outputs": [],
   "source": [
    "from bs4 import BeautifulSoup as bs\n",
    "import requests"
   ]
  },
  {
   "cell_type": "code",
   "execution_count": 212,
   "metadata": {},
   "outputs": [
    {
     "data": {
      "text/plain": [
       "<Response [200]>"
      ]
     },
     "execution_count": 212,
     "metadata": {},
     "output_type": "execute_result"
    }
   ],
   "source": [
    "r =  requests.get('https://en.wikipedia.org/wiki/List_of_Walt_Disney_Pictures_films')\n",
    "r"
   ]
  },
  {
   "cell_type": "code",
   "execution_count": 224,
   "metadata": {},
   "outputs": [],
   "source": [
    "#convert to beautiful soup object\n",
    "soup = bs(r.content)\n",
    "# soup"
   ]
  },
  {
   "cell_type": "code",
   "execution_count": 225,
   "metadata": {},
   "outputs": [],
   "source": [
    "contents = soup.prettify()\n",
    "# print(contents)"
   ]
  },
  {
   "cell_type": "code",
   "execution_count": 226,
   "metadata": {},
   "outputs": [],
   "source": [
    "central_block = soup.find(id=\"mw-content-text\")\n",
    "# print(central_block)"
   ]
  },
  {
   "attachments": {},
   "cell_type": "markdown",
   "metadata": {},
   "source": [
    "                                                            Get movie title"
   ]
  },
  {
   "cell_type": "code",
   "execution_count": 216,
   "metadata": {},
   "outputs": [],
   "source": [
    "#To get movie title\n",
    "title =[]\n",
    "def td_data(data):\n",
    "    for i in data:\n",
    "        # print(i.find('a').get_text(\" \", strip=True))\n",
    "        title.append(i.get_text(\" \", strip=True))"
   ]
  },
  {
   "cell_type": "code",
   "execution_count": 217,
   "metadata": {},
   "outputs": [],
   "source": [
    "info_table = central_block.find_all('tbody')\n",
    "\n",
    "for index, table in enumerate(info_table):\n",
    "    td_data(table.find_all('i'))"
   ]
  },
  {
   "cell_type": "code",
   "execution_count": 227,
   "metadata": {},
   "outputs": [],
   "source": [
    "# print(title)"
   ]
  },
  {
   "attachments": {},
   "cell_type": "markdown",
   "metadata": {},
   "source": [
    "                                                            Get Hyperlink"
   ]
  },
  {
   "cell_type": "code",
   "execution_count": 219,
   "metadata": {},
   "outputs": [],
   "source": [
    "URL = []\n",
    "def a_data(data):\n",
    "    for i in data:\n",
    "        url_initial = 'https://en.wikipedia.org/'\n",
    "        URL.append(url_initial+i['href'])\n"
   ]
  },
  {
   "cell_type": "code",
   "execution_count": 220,
   "metadata": {},
   "outputs": [],
   "source": [
    "info_table = central_block.find_all('tbody')\n",
    "\n",
    "for index, table in enumerate(info_table):\n",
    "    a_data(table.find_all('a',href=True))\n"
   ]
  },
  {
   "cell_type": "code",
   "execution_count": 221,
   "metadata": {},
   "outputs": [
    {
     "name": "stdout",
     "output_type": "stream",
     "text": [
      "https://en.wikipedia.org//wiki/Snow_White_and_the_Seven_Dwarfs_(1937_film)\n"
     ]
    }
   ],
   "source": [
    "for url in URL[:1]:\n",
    "    print(url)\n"
   ]
  },
  {
   "cell_type": "code",
   "execution_count": 222,
   "metadata": {},
   "outputs": [
    {
     "name": "stdout",
     "output_type": "stream",
     "text": [
      "https://en.wikipedia.org//wiki/Snow_White_and_the_Seven_Dwarfs_(1937_film)\n",
      "https://en.wikipedia.org//wiki/RKO_Pictures\n",
      "Someting wrong with this URL -> https://en.wikipedia.org//wiki/RKO_Pictures\n",
      "'NoneType' object has no attribute 'find_all'\n",
      "https://en.wikipedia.org//wiki/Pinocchio_(1940_film)\n",
      "https://en.wikipedia.org//wiki/Fantasia_(1940_film)\n",
      "https://en.wikipedia.org//wiki/The_Reluctant_Dragon_(1941_film)\n"
     ]
    }
   ],
   "source": [
    "movies=[]\n",
    "movie_info ={}\n",
    "unfetched_url=[]\n",
    "\n",
    "for url in URL[0:5]:\n",
    "    print(url)\n",
    "    r =  requests.get(f'{url}')\n",
    "    soup = bs(r.content)\n",
    "    contents = soup.prettify()\n",
    "    info_box = soup.find(class_='infobox vevent')\n",
    "\n",
    "    try:\n",
    "        info_row = info_box.find_all(\"tr\")\n",
    "\n",
    "        def get_content_value(row_data):\n",
    "            if row_data.find(\"li\"):\n",
    "                return [li.get_text(\" \", strip=True).replace('\\xa0',' ') for li in row_data.find_all('li')]\n",
    "            else:\n",
    "                return row_data.get_text(\" \", strip=True).replace('\\xa0',' ')\n",
    "\n",
    "        for index,row in enumerate(info_row):\n",
    "            if index==0:\n",
    "                movie_info['Title'] = row.find(\"th\").get_text(\" \", strip=True)\n",
    "            elif index==1:\n",
    "                continue\n",
    "            else:\n",
    "                contenet_key = row.find(\"th\").get_text(\" \", strip=True)\n",
    "                contenet_value = get_content_value(row.find(\"td\"))\n",
    "                movie_info[contenet_key] = contenet_value\n",
    "\n",
    "        movies.append(movie_info)\n",
    "        # print(movies)\n",
    "    except AttributeError as e:\n",
    "        print(f'Someting wrong with this URL -> {url}')\n",
    "        print(e)\n",
    "        unfetched_url.append(url)"
   ]
  },
  {
   "cell_type": "code",
   "execution_count": 223,
   "metadata": {},
   "outputs": [
    {
     "data": {
      "text/plain": [
       "[{'Title': 'The Reluctant Dragon',\n",
       "  'Directed by': 'Alfred Werker (live action) Hamilton Luske (animation) Jack Cutting , Ub Iwerks , Jack Kinney (sequence directors)',\n",
       "  'Written by': 'Live-action: Ted Sears Al Perkins Larry Clemmons Bill Cottrell Harry Clork Robert Benchley The Reluctant Dragon segment: Kenneth Grahame (original book) Erdman Penner T. Hee Baby Weems segment: Joe Grant Dick Huemer John Miller',\n",
       "  'Based on': 'The Adventures of Pinocchio by Carlo Collodi',\n",
       "  'Produced by': 'Walt Disney',\n",
       "  'Starring': 'Robert Benchley Frances Gifford Buddy Pepper Nana Bryant',\n",
       "  'Music by': 'Frank Churchill Larry Morey',\n",
       "  'Production company': 'Walt Disney Productions',\n",
       "  'Distributed by': 'RKO Radio Pictures',\n",
       "  'Release dates': ['February 7, 1940 ( 1940-02-07 ) ( Center Theatre ) [1]',\n",
       "   'February 23, 1940 ( 1940-02-23 ) (United States) [2]'],\n",
       "  'Running time': '74 minutes',\n",
       "  'Country': 'United States',\n",
       "  'Language': 'English',\n",
       "  'Budget': '$600,000 [2]',\n",
       "  'Box office': '$960,000 (worldwide rentals) [3]',\n",
       "  'Story by': ['Joe Grant', 'Dick Huemer'],\n",
       "  'Narrated by': 'Deems Taylor',\n",
       "  'Cinematography': 'Bert Glennon',\n",
       "  'Release date': ['June 27, 1941 ( 1941-06-27 ) [1]'],\n",
       "  'Edited by': 'Paul Weatherwax'},\n",
       " {'Title': 'The Reluctant Dragon',\n",
       "  'Directed by': 'Alfred Werker (live action) Hamilton Luske (animation) Jack Cutting , Ub Iwerks , Jack Kinney (sequence directors)',\n",
       "  'Written by': 'Live-action: Ted Sears Al Perkins Larry Clemmons Bill Cottrell Harry Clork Robert Benchley The Reluctant Dragon segment: Kenneth Grahame (original book) Erdman Penner T. Hee Baby Weems segment: Joe Grant Dick Huemer John Miller',\n",
       "  'Based on': 'The Adventures of Pinocchio by Carlo Collodi',\n",
       "  'Produced by': 'Walt Disney',\n",
       "  'Starring': 'Robert Benchley Frances Gifford Buddy Pepper Nana Bryant',\n",
       "  'Music by': 'Frank Churchill Larry Morey',\n",
       "  'Production company': 'Walt Disney Productions',\n",
       "  'Distributed by': 'RKO Radio Pictures',\n",
       "  'Release dates': ['February 7, 1940 ( 1940-02-07 ) ( Center Theatre ) [1]',\n",
       "   'February 23, 1940 ( 1940-02-23 ) (United States) [2]'],\n",
       "  'Running time': '74 minutes',\n",
       "  'Country': 'United States',\n",
       "  'Language': 'English',\n",
       "  'Budget': '$600,000 [2]',\n",
       "  'Box office': '$960,000 (worldwide rentals) [3]',\n",
       "  'Story by': ['Joe Grant', 'Dick Huemer'],\n",
       "  'Narrated by': 'Deems Taylor',\n",
       "  'Cinematography': 'Bert Glennon',\n",
       "  'Release date': ['June 27, 1941 ( 1941-06-27 ) [1]'],\n",
       "  'Edited by': 'Paul Weatherwax'},\n",
       " {'Title': 'The Reluctant Dragon',\n",
       "  'Directed by': 'Alfred Werker (live action) Hamilton Luske (animation) Jack Cutting , Ub Iwerks , Jack Kinney (sequence directors)',\n",
       "  'Written by': 'Live-action: Ted Sears Al Perkins Larry Clemmons Bill Cottrell Harry Clork Robert Benchley The Reluctant Dragon segment: Kenneth Grahame (original book) Erdman Penner T. Hee Baby Weems segment: Joe Grant Dick Huemer John Miller',\n",
       "  'Based on': 'The Adventures of Pinocchio by Carlo Collodi',\n",
       "  'Produced by': 'Walt Disney',\n",
       "  'Starring': 'Robert Benchley Frances Gifford Buddy Pepper Nana Bryant',\n",
       "  'Music by': 'Frank Churchill Larry Morey',\n",
       "  'Production company': 'Walt Disney Productions',\n",
       "  'Distributed by': 'RKO Radio Pictures',\n",
       "  'Release dates': ['February 7, 1940 ( 1940-02-07 ) ( Center Theatre ) [1]',\n",
       "   'February 23, 1940 ( 1940-02-23 ) (United States) [2]'],\n",
       "  'Running time': '74 minutes',\n",
       "  'Country': 'United States',\n",
       "  'Language': 'English',\n",
       "  'Budget': '$600,000 [2]',\n",
       "  'Box office': '$960,000 (worldwide rentals) [3]',\n",
       "  'Story by': ['Joe Grant', 'Dick Huemer'],\n",
       "  'Narrated by': 'Deems Taylor',\n",
       "  'Cinematography': 'Bert Glennon',\n",
       "  'Release date': ['June 27, 1941 ( 1941-06-27 ) [1]'],\n",
       "  'Edited by': 'Paul Weatherwax'},\n",
       " {'Title': 'The Reluctant Dragon',\n",
       "  'Directed by': 'Alfred Werker (live action) Hamilton Luske (animation) Jack Cutting , Ub Iwerks , Jack Kinney (sequence directors)',\n",
       "  'Written by': 'Live-action: Ted Sears Al Perkins Larry Clemmons Bill Cottrell Harry Clork Robert Benchley The Reluctant Dragon segment: Kenneth Grahame (original book) Erdman Penner T. Hee Baby Weems segment: Joe Grant Dick Huemer John Miller',\n",
       "  'Based on': 'The Adventures of Pinocchio by Carlo Collodi',\n",
       "  'Produced by': 'Walt Disney',\n",
       "  'Starring': 'Robert Benchley Frances Gifford Buddy Pepper Nana Bryant',\n",
       "  'Music by': 'Frank Churchill Larry Morey',\n",
       "  'Production company': 'Walt Disney Productions',\n",
       "  'Distributed by': 'RKO Radio Pictures',\n",
       "  'Release dates': ['February 7, 1940 ( 1940-02-07 ) ( Center Theatre ) [1]',\n",
       "   'February 23, 1940 ( 1940-02-23 ) (United States) [2]'],\n",
       "  'Running time': '74 minutes',\n",
       "  'Country': 'United States',\n",
       "  'Language': 'English',\n",
       "  'Budget': '$600,000 [2]',\n",
       "  'Box office': '$960,000 (worldwide rentals) [3]',\n",
       "  'Story by': ['Joe Grant', 'Dick Huemer'],\n",
       "  'Narrated by': 'Deems Taylor',\n",
       "  'Cinematography': 'Bert Glennon',\n",
       "  'Release date': ['June 27, 1941 ( 1941-06-27 ) [1]'],\n",
       "  'Edited by': 'Paul Weatherwax'}]"
      ]
     },
     "execution_count": 223,
     "metadata": {},
     "output_type": "execute_result"
    }
   ],
   "source": [
    "# movies"
   ]
  }
 ],
 "metadata": {
  "kernelspec": {
   "display_name": "Python 3",
   "language": "python",
   "name": "python3"
  },
  "language_info": {
   "codemirror_mode": {
    "name": "ipython",
    "version": 3
   },
   "file_extension": ".py",
   "mimetype": "text/x-python",
   "name": "python",
   "nbconvert_exporter": "python",
   "pygments_lexer": "ipython3",
   "version": "3.10.4"
  },
  "orig_nbformat": 4,
  "vscode": {
   "interpreter": {
    "hash": "ea94815bafe94137b35352c49355785adc7d585b397f5cf9c003fa847827c1d4"
   }
  }
 },
 "nbformat": 4,
 "nbformat_minor": 2
}
