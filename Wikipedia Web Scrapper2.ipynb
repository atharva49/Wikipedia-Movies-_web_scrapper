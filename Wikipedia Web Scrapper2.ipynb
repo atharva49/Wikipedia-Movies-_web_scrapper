{
 "cells": [
  {
   "attachments": {},
   "cell_type": "markdown",
   "metadata": {},
   "source": [
    "                            Import Libraries"
   ]
  },
  {
   "cell_type": "code",
   "execution_count": 1,
   "metadata": {},
   "outputs": [],
   "source": [
    "from bs4 import BeautifulSoup as bs\n",
    "import requests"
   ]
  },
  {
   "cell_type": "code",
   "execution_count": 2,
   "metadata": {},
   "outputs": [],
   "source": [
    "def get_content_value(row_data):\n",
    "    if row_data.find(\"li\"):\n",
    "        return [li.get_text(\" \", strip=True).replace('\\xa0',' ') for li in row_data.find_all('li')]\n",
    "    else:\n",
    "        return row_data.get_text(\" \", strip=True).replace('\\xa0',' ')"
   ]
  },
  {
   "cell_type": "code",
   "execution_count": 3,
   "metadata": {},
   "outputs": [],
   "source": [
    "#clean data to remove [1] [2], date format eg (09-25-1953)\n",
    "def clean_tags(soup):\n",
    "    for tag in soup.find_all([\"sup\",\"span\"]):\n",
    "        tag.decompose()"
   ]
  },
  {
   "cell_type": "code",
   "execution_count": 4,
   "metadata": {},
   "outputs": [],
   "source": [
    "def get_info_box(url):\n",
    "\n",
    "    r =  requests.get(url)\n",
    "    soup = bs(r.content)\n",
    "\n",
    "\n",
    "    info_box = soup.find(class_='infobox vevent')\n",
    "    info_row = info_box.find_all(\"tr\")\n",
    "\n",
    "    clean_tags(soup)\n",
    "\n",
    "    movie_info ={}\n",
    "    for index,row in enumerate(info_row):\n",
    "        if index==0:\n",
    "            movie_info['Title'] = row.find(\"th\").get_text(\" \", strip=True)\n",
    "        elif index==1:\n",
    "            continue\n",
    "        else:\n",
    "            contenet_key = row.find(\"th\").get_text(\" \", strip=True)\n",
    "            contenet_value = get_content_value(row.find(\"td\"))\n",
    "            movie_info[contenet_key] = contenet_value\n",
    "\n",
    "    return movie_info"
   ]
  },
  {
   "cell_type": "code",
   "execution_count": 5,
   "metadata": {},
   "outputs": [],
   "source": [
    "r = requests.get('https://en.wikipedia.org/wiki/List_of_Walt_Disney_Pictures_films')\n",
    "soup = bs(r.content)\n",
    "contenets = soup.prettify()"
   ]
  },
  {
   "cell_type": "code",
   "execution_count": 6,
   "metadata": {},
   "outputs": [],
   "source": [
    "movies = soup.select('.wikitable.sortable i')\n",
    "movie_info_list =[]\n",
    "base_url = 'https://en.wikipedia.org'\n",
    "\n",
    "for index,movies in enumerate(movies):\n",
    "    if index==2:\n",
    "        break \n",
    "    try:\n",
    "        relative_path = movies.a['href']\n",
    "        full_path = base_url+relative_path\n",
    "        title = movies.a['title']\n",
    "\n",
    "        movie_info_list.append(get_info_box(full_path))\n",
    "        \n",
    "        # print(relative_path)\n",
    "        # print(title)\n",
    "        # print()\n",
    "        \n",
    "    except Exception as e:\n",
    "        print(movies.get_text(), e)"
   ]
  },
  {
   "cell_type": "code",
   "execution_count": 7,
   "metadata": {},
   "outputs": [],
   "source": [
    "# movie_info_list"
   ]
  },
  {
   "attachments": {},
   "cell_type": "markdown",
   "metadata": {},
   "source": [
    "                                                            Save Data to JSON"
   ]
  },
  {
   "cell_type": "code",
   "execution_count": 8,
   "metadata": {},
   "outputs": [],
   "source": [
    "import json"
   ]
  },
  {
   "cell_type": "code",
   "execution_count": 9,
   "metadata": {},
   "outputs": [],
   "source": [
    "def save_data(title,data):\n",
    "    with open(title,'w', encoding='utf-8') as f:\n",
    "        json.dump(data,f,ensure_ascii=False, indent=2)"
   ]
  },
  {
   "cell_type": "code",
   "execution_count": 10,
   "metadata": {},
   "outputs": [],
   "source": [
    "def load_data(title):\n",
    "    with open(title,encoding='utf-8') as f:\n",
    "        return json.load(f)"
   ]
  },
  {
   "cell_type": "code",
   "execution_count": 11,
   "metadata": {},
   "outputs": [],
   "source": [
    "save_data('Disney Dataset',movie_info_list)"
   ]
  }
 ],
 "metadata": {
  "kernelspec": {
   "display_name": "Python 3",
   "language": "python",
   "name": "python3"
  },
  "language_info": {
   "codemirror_mode": {
    "name": "ipython",
    "version": 3
   },
   "file_extension": ".py",
   "mimetype": "text/x-python",
   "name": "python",
   "nbconvert_exporter": "python",
   "pygments_lexer": "ipython3",
   "version": "3.10.4"
  },
  "orig_nbformat": 4,
  "vscode": {
   "interpreter": {
    "hash": "ea94815bafe94137b35352c49355785adc7d585b397f5cf9c003fa847827c1d4"
   }
  }
 },
 "nbformat": 4,
 "nbformat_minor": 2
}
